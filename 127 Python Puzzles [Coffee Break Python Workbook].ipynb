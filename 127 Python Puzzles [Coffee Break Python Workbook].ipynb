{
 "cells": [
  {
   "cell_type": "code",
   "execution_count": null,
   "metadata": {},
   "outputs": [],
   "source": [
    "# Elo 987\n",
    "\n",
    "a = 20\n",
    "print(a)"
   ]
  },
  {
   "cell_type": "code",
   "execution_count": null,
   "metadata": {},
   "outputs": [],
   "source": [
    "# Elo 1023\n",
    "\n",
    "a = 20\n",
    "b = 11\n",
    "c = a - b\n",
    "\n",
    "print(c)"
   ]
  },
  {
   "cell_type": "code",
   "execution_count": null,
   "metadata": {},
   "outputs": [],
   "source": [
    "# Elo 991\n",
    "\n",
    "my_string = 'abc'\n",
    "print(my_string)"
   ]
  },
  {
   "cell_type": "code",
   "execution_count": null,
   "metadata": {},
   "outputs": [],
   "source": [
    "# Elo 1189\n",
    "\n",
    "a = 2\n",
    "print(type(a))"
   ]
  },
  {
   "cell_type": "code",
   "execution_count": null,
   "metadata": {},
   "outputs": [],
   "source": [
    "# Elo 1198\n",
    "\n",
    "x = True\n",
    "print(type(x))"
   ]
  },
  {
   "cell_type": "code",
   "execution_count": null,
   "metadata": {},
   "outputs": [],
   "source": [
    "# Elo 1245\n",
    "\n",
    "print(min([1, 2, 3, -4]))"
   ]
  },
  {
   "cell_type": "code",
   "execution_count": null,
   "metadata": {},
   "outputs": [],
   "source": [
    "# Elo 1111\n",
    "\n",
    "first_str = 'Hello'\n",
    "second_str = \" world!\"\n",
    "\n",
    "str_ = first_str + second_str\n",
    "\n",
    "print(str_)\n",
    "\n",
    " "
   ]
  },
  {
   "cell_type": "code",
   "execution_count": null,
   "metadata": {},
   "outputs": [],
   "source": [
    "# Elo 1298\n",
    "\n",
    "my_str = 'Hello\\nworld\\nhow\\nare you?'\n",
    "print(my_str)\n",
    "\n",
    " \n"
   ]
  },
  {
   "cell_type": "code",
   "execution_count": null,
   "metadata": {},
   "outputs": [],
   "source": [
    "# Elo 1270\n",
    "\n",
    "my_str = '''Hello\n",
    "world\n",
    "how are\n",
    "you?'''\n",
    "\n",
    "print(my_str)\n",
    " \n"
   ]
  },
  {
   "cell_type": "code",
   "execution_count": null,
   "metadata": {},
   "outputs": [],
   "source": [
    "# Elo 1281\n",
    "\n",
    "my_list = [1, 2, 3, 4, 5]\n",
    "print(len(my_list))\n",
    "\n",
    " \n"
   ]
  },
  {
   "cell_type": "code",
   "execution_count": null,
   "metadata": {},
   "outputs": [],
   "source": [
    "# Elo 1112\n",
    "\n",
    "bool_var = 1 == 1\n",
    "print(bool_var)\n",
    " \n"
   ]
  },
  {
   "cell_type": "code",
   "execution_count": null,
   "metadata": {},
   "outputs": [],
   "source": [
    "# Elo 1194\n",
    "\n",
    "bool_var = 1 > 2\n",
    "print(bool_var)\n",
    "\n",
    " \n"
   ]
  },
  {
   "cell_type": "code",
   "execution_count": null,
   "metadata": {},
   "outputs": [],
   "source": [
    "# Elo 1297\n",
    "\n",
    "a = b = c = 1\n",
    "print(b)\n",
    " \n"
   ]
  },
  {
   "cell_type": "code",
   "execution_count": null,
   "metadata": {},
   "outputs": [],
   "source": [
    "# Elo 1401\n",
    "\n",
    "print(max([3+2, 5*2, 30/3]))\n",
    "\n",
    " \n"
   ]
  },
  {
   "cell_type": "code",
   "execution_count": null,
   "metadata": {},
   "outputs": [],
   "source": [
    "# Elo 1278\n",
    "\n",
    "question = 'What is the answer?'\n",
    "answer = 42\n",
    "\n",
    "question = answer\n",
    "\n",
    "print(id(question)==id(answer))\n",
    "\n",
    " \n"
   ]
  },
  {
   "cell_type": "code",
   "execution_count": null,
   "metadata": {},
   "outputs": [],
   "source": [
    "# Elo 1321\n",
    "\n",
    "a = 5\n",
    "b = 'my string'\n",
    "\n",
    "tmp = a\n",
    "a = b\n",
    "b = tmp\n",
    "\n",
    "print(a)\n",
    "print(b)\n",
    "\n",
    " \n"
   ]
  },
  {
   "cell_type": "code",
   "execution_count": null,
   "metadata": {},
   "outputs": [],
   "source": [
    "# Elo 1432\n",
    "\n",
    "t1 = True\n",
    "t2 = True\n",
    "f1 = False\n",
    "f2 = False\n",
    "\n",
    "and_result = t1 and t2\n",
    "print(and_result)\n",
    "\n",
    "and_result = t1 and f1\n",
    "print(and_result)\n",
    "\n",
    "and_result = f1 and f2\n",
    "print(and_result)\n",
    "\n",
    "and_result = f1 and t2\n",
    "print(and_result)\n",
    "\n",
    " \n"
   ]
  },
  {
   "cell_type": "code",
   "execution_count": null,
   "metadata": {},
   "outputs": [],
   "source": [
    "# Elo 1417\n",
    "\n",
    "t1 = True\n",
    "t2 = True\n",
    "f1 = False\n",
    "f2 = False\n",
    "\n",
    "or_result = t1 or t2\n",
    "print(or_result)\n",
    "\n",
    "or_result = t1 or f1\n",
    "print(or_result)\n",
    "\n",
    "or_result = f2 or t2\n",
    "print(or_result)\n",
    "\n",
    "or_result = f1 or f2\n",
    "print(or_result)\n",
    "\n",
    " \n"
   ]
  },
  {
   "cell_type": "code",
   "execution_count": null,
   "metadata": {},
   "outputs": [],
   "source": [
    "# Elo 1476\n",
    "\n",
    "t1 = 5 + 2 == 7\n",
    "f1 = 2 - 1 > 3\n",
    "\n",
    "r = t1 or False\n",
    "r = r and True and f1\n",
    "\n",
    "print(r)\n",
    "\n",
    " \n"
   ]
  },
  {
   "cell_type": "code",
   "execution_count": null,
   "metadata": {},
   "outputs": [],
   "source": [
    "# Elo 1500\n",
    "\n",
    "r = 3 + 5 - 2\n",
    "print(type(r))\n",
    "\n",
    "# this is a comment: / stands for division\n",
    "# / returns a float value, e.g. 1.523, 5.0,...\n",
    "r = 4 / 2\n",
    "print(r)\n",
    "\n",
    "# * stands for multiplication\n",
    "r = 3 * 7\n",
    "print(type(r))\n",
    "\n",
    " \n"
   ]
  },
  {
   "cell_type": "code",
   "execution_count": null,
   "metadata": {},
   "outputs": [],
   "source": [
    "# Elo 1519\n",
    "\n",
    "days_count = 219\n",
    "days_per_week = 7\n",
    "\n",
    "weeks = days_count // days_per_week\n",
    "print(weeks)\n",
    "\n",
    "days = days_count % days_per_week\n",
    "print(days)\n",
    "\n",
    " \n"
   ]
  },
  {
   "cell_type": "code",
   "execution_count": null,
   "metadata": {},
   "outputs": [],
   "source": [
    "# Elo 1472\n",
    "\n",
    "ha = 'ha'\n",
    "ho = 'ho'\n",
    "\n",
    "laughter = 3 * (ha + ho) + '!'\n",
    "\n",
    "print(laughter)\n",
    "\n",
    " \n"
   ]
  },
  {
   "cell_type": "code",
   "execution_count": null,
   "metadata": {},
   "outputs": [],
   "source": [
    "# Elo 1332\n",
    "\n",
    "my_str = 'cat'\n",
    "length = len(my_str)\n",
    "\n",
    "print(length)\n",
    "\n",
    " \n"
   ]
  },
  {
   "cell_type": "code",
   "execution_count": null,
   "metadata": {},
   "outputs": [],
   "source": [
    "# Elo 1571\n",
    "\n",
    "my_str = 'superman'\n",
    "\n",
    "print(my_str[0])\n",
    "print(my_str[1])\n",
    "print(my_str[len(my_str) - 1])\n",
    "\n",
    " \n"
   ]
  },
  {
   "cell_type": "code",
   "execution_count": null,
   "metadata": {},
   "outputs": [],
   "source": [
    "# Elo 1390\n",
    "\n",
    "text = \"Hi, how are you?\"\n",
    "shout = text.upper()\n",
    "\n",
    "print(shout)\n",
    "\n",
    " \n"
   ]
  },
  {
   "cell_type": "code",
   "execution_count": null,
   "metadata": {},
   "outputs": [],
   "source": [
    "# Elo 1367\n",
    "\n",
    "text = 'I AM NOT SHOUTING!'\n",
    "whisper = text.lower()\n",
    "\n",
    "print(whisper)\n",
    "\n",
    " \n"
   ]
  },
  {
   "cell_type": "code",
   "execution_count": null,
   "metadata": {},
   "outputs": [],
   "source": [
    "# Elo 1578\n",
    "\n",
    "text = 'I AM NOT SHOUTING!'\n",
    "text.lower()\n",
    "\n",
    "print(text)\n",
    "\n",
    " \n"
   ]
  },
  {
   "cell_type": "code",
   "execution_count": null,
   "metadata": {},
   "outputs": [],
   "source": [
    "# Elo 1543\n",
    "\n",
    "text = 'Have a nice day.'\n",
    "space_count = text.count(' ')\n",
    "total_count = len(text)\n",
    "\n",
    "print(space_count == total_count)\n",
    "\n",
    " \n"
   ]
  },
  {
   "cell_type": "code",
   "execution_count": null,
   "metadata": {},
   "outputs": [],
   "source": [
    "# Elo 1542\n",
    "\n",
    "text = 'Have a nice day.'\n",
    "total_count = len(text)\n",
    "spaces = total_count * ' '\n",
    "space_count = len(spaces)\n",
    "\n",
    "print(space_count == total_count)\n",
    "\n",
    " \n"
   ]
  },
  {
   "cell_type": "code",
   "execution_count": null,
   "metadata": {},
   "outputs": [],
   "source": [
    "# Elo 1501\n",
    "\n",
    "my_str = 'Donald Duck'\n",
    "idx = my_str.find('a')\n",
    "\n",
    "print(idx)\n",
    "\n",
    " \n"
   ]
  },
  {
   "cell_type": "code",
   "execution_count": null,
   "metadata": {},
   "outputs": [],
   "source": [
    "# Elo 1334\n",
    "\n",
    "my_str = 'Donald Duck'\n",
    "idx = my_str.find('y')\n",
    "\n",
    "print(idx > 0)\n",
    "\n",
    " \n"
   ]
  },
  {
   "cell_type": "code",
   "execution_count": null,
   "metadata": {},
   "outputs": [],
   "source": [
    "# Elo 1535\n",
    "\n",
    "letters = 'cheap cars crash'\n",
    "cs = letters.count('c')\n",
    "rs = letters.count('r')\n",
    "ys = letters.count('y')\n",
    "\n",
    "print(cs - rs > ys)\n",
    "\n",
    " \n"
   ]
  },
  {
   "cell_type": "code",
   "execution_count": null,
   "metadata": {},
   "outputs": [],
   "source": [
    "# Elo 1470\n",
    "\n",
    "my_str = 'python'\n",
    "print(min(my_str) + max(my_str))\n",
    "\n",
    " \n"
   ]
  },
  {
   "cell_type": "code",
   "execution_count": null,
   "metadata": {},
   "outputs": [],
   "source": [
    "# Elo 1398\n",
    "\n",
    "my_str = 'python'\n",
    "print(my_str[::-1])\n",
    "\n",
    " \n"
   ]
  },
  {
   "cell_type": "code",
   "execution_count": null,
   "metadata": {},
   "outputs": [],
   "source": [
    "# Elo 1410\n",
    "\n",
    "my_str = 'python'\n",
    "are_equal = my_str[:] == my_str\n",
    "\n",
    "print(are_equal)\n",
    "\n",
    " \n"
   ]
  },
  {
   "cell_type": "code",
   "execution_count": null,
   "metadata": {},
   "outputs": [],
   "source": [
    "# Elo 1431\n",
    "\n",
    "my_str = 'python'\n",
    "my_substring = my_str[4:]\n",
    "\n",
    "print(my_substring)\n",
    "\n",
    " \n"
   ]
  },
  {
   "cell_type": "code",
   "execution_count": null,
   "metadata": {},
   "outputs": [],
   "source": [
    "# Elo 1598\n",
    "\n",
    "my_str = 'python'\n",
    "my_substr = my_str[::2]\n",
    "\n",
    "print(my_substr)\n",
    "\n",
    " \n"
   ]
  },
  {
   "cell_type": "code",
   "execution_count": null,
   "metadata": {},
   "outputs": [],
   "source": [
    "# Elo 1591\n",
    "\n",
    "my_str = 'AaBbCcDdEeFf'\n",
    "big = my_str[::2]\n",
    "small = my_str[1::2]\n",
    "\n",
    "print(big + '-' + small)\n",
    "\n",
    " \n"
   ]
  },
  {
   "cell_type": "code",
   "execution_count": null,
   "metadata": {},
   "outputs": [],
   "source": [
    "# Elo 1588\n",
    "\n",
    "chars_1 = 'Rzotbo'\n",
    "chars_2 = 'tigno'\n",
    "\n",
    "mistery = chars_1[::2] + chars_2[1::2]\n",
    "\n",
    "print(mistery)\n",
    "\n",
    " \n"
   ]
  },
  {
   "cell_type": "code",
   "execution_count": null,
   "metadata": {},
   "outputs": [],
   "source": [
    "# Elo 1395\n",
    "\n",
    "my_str = 'Batman'\n",
    "other_str = my_str[0:len(my_str)]\n",
    "\n",
    "print(other_str)\n",
    "\n",
    " \n"
   ]
  },
  {
   "cell_type": "code",
   "execution_count": null,
   "metadata": {},
   "outputs": [],
   "source": [
    "# Elo 1501\n",
    "\n",
    "my_str = 'Aquaman'\n",
    "id_1 = id(my_str)\n",
    "\n",
    "my_str = my_str[4:]\n",
    "id_2 = id(my_str)\n",
    "\n",
    "print(id_1 == id_2)\n",
    "\n",
    " \n"
   ]
  },
  {
   "cell_type": "code",
   "execution_count": null,
   "metadata": {},
   "outputs": [],
   "source": [
    "# Elo 1567\n",
    "\n",
    "my_list = [\n",
    "    'apple',\n",
    "    'banana',\n",
    "    'orange',\n",
    "]\n",
    "\n",
    "item = my_list[len(my_list)-2]\n",
    "print(item)\n",
    "\n",
    " \n"
   ]
  },
  {
   "cell_type": "code",
   "execution_count": null,
   "metadata": {},
   "outputs": [],
   "source": [
    "# Elo 1340\n",
    "\n",
    "my_list = [\n",
    "    'apple',\n",
    "    'orange',\n",
    "    'banana',\n",
    "]\n",
    "\n",
    "item = my_list[1]\n",
    "\n",
    "print(item)\n",
    "\n",
    " \n"
   ]
  },
  {
   "cell_type": "code",
   "execution_count": null,
   "metadata": {},
   "outputs": [],
   "source": [
    "# Elo 1499\n",
    "\n",
    "my_list =  [\n",
    "    'apple',\n",
    "    'banana',\n",
    "    'orange',\n",
    "]\n",
    "\n",
    "item = my_list.pop()\n",
    "\n",
    "print(item)\n",
    "\n",
    " \n"
   ]
  },
  {
   "cell_type": "code",
   "execution_count": null,
   "metadata": {},
   "outputs": [],
   "source": [
    "# Elo 1461\n",
    "\n",
    "phone = 'smartphone'\n",
    "x = phone.startswith('smart')\n",
    "y = phone.endswith('phone')\n",
    "\n",
    "print(x and y)\n",
    "\n",
    " \n"
   ]
  },
  {
   "cell_type": "code",
   "execution_count": null,
   "metadata": {},
   "outputs": [],
   "source": [
    "# Elo 1133\n",
    "\n",
    "phone = 'smartphone'\n",
    "x = 'xyz' in phone\n",
    "\n",
    "print(not x)\n",
    "\n",
    " \n"
   ]
  },
  {
   "cell_type": "code",
   "execution_count": null,
   "metadata": {},
   "outputs": [],
   "source": [
    "# Elo 1455\n",
    "\n",
    "sentence = ' Python is cool!  '\n",
    "sentence = sentence.strip()\n",
    "x = sentence.endswith(' ')\n",
    "\n",
    "print(x)\n",
    "\n",
    " \n"
   ]
  },
  {
   "cell_type": "code",
   "execution_count": null,
   "metadata": {},
   "outputs": [],
   "source": [
    "# Elo 1555\n",
    "\n",
    "sentence = '  Python is cool!  '\n",
    "str_1 = sentence.strip()\n",
    "str_2 = sentence.replace(' ', '')\n",
    "\n",
    "print(str_1 == str_2)\n",
    "\n",
    " \n"
   ]
  },
  {
   "cell_type": "code",
   "execution_count": null,
   "metadata": {},
   "outputs": [],
   "source": [
    "# Elo 1419\n",
    "\n",
    "shopping_list = [\n",
    "    'bread',\n",
    "    'milk',\n",
    "    'cheese',\n",
    "]\n",
    "\n",
    "string = ','.join(shopping_list)\n",
    "\n",
    "print(string)\n",
    "\n",
    " \n"
   ]
  },
  {
   "cell_type": "code",
   "execution_count": null,
   "metadata": {},
   "outputs": [],
   "source": [
    "# Elo 1489\n",
    "\n",
    "my_list = [\n",
    "    'Bob',\n",
    "    'Alice',\n",
    "    'Donald',\n",
    "    'Goofy',\n",
    "]\n",
    "\n",
    "your_list = my_list.copy()\n",
    "\n",
    "print(id(your_list) == id(my_list))\n",
    "\n",
    " \n"
   ]
  },
  {
   "cell_type": "code",
   "execution_count": null,
   "metadata": {},
   "outputs": [],
   "source": [
    "# Elo 1480\n",
    "\n",
    "my_list = []\n",
    "\n",
    "my_list.append('Tomato')\n",
    "my_list = my_list + ['Pizza']\n",
    "\n",
    "print(my_list)\n",
    "\n",
    " \n"
   ]
  },
  {
   "cell_type": "code",
   "execution_count": null,
   "metadata": {},
   "outputs": [],
   "source": [
    "# Elo 1427\n",
    "\n",
    "odd = [1, 3, 5, 7]\n",
    "even = [0, 2, 4, 6]\n",
    "\n",
    "odd.extend(even)\n",
    "\n",
    "print(len(odd))\n",
    "\n",
    " \n"
   ]
  },
  {
   "cell_type": "code",
   "execution_count": null,
   "metadata": {},
   "outputs": [],
   "source": [
    "# Elo 1381\n",
    "\n",
    "my_list = []\n",
    "my_list.append(1)\n",
    "my_list.append(2)\n",
    "my_list.pop()\n",
    "\n",
    "print(len(my_list))\n",
    "\n",
    " \n"
   ]
  },
  {
   "cell_type": "code",
   "execution_count": null,
   "metadata": {},
   "outputs": [],
   "source": [
    "# Elo 1441\n",
    "\n",
    "my_list = [4, 5, 6]\n",
    "index = 0\n",
    "my_list.insert(index, 3)\n",
    "\n",
    "print(my_list[1])\n",
    "\n",
    " \n"
   ]
  },
  {
   "cell_type": "code",
   "execution_count": null,
   "metadata": {},
   "outputs": [],
   "source": [
    "# Elo 1485\n",
    "\n",
    "my_list = [1, 2, 3, 4]\n",
    "value = 2\n",
    "index = 2\n",
    "my_list.remove(value)\n",
    "\n",
    "print(my_list[index])\n",
    "\n",
    " \n"
   ]
  },
  {
   "cell_type": "code",
   "execution_count": null,
   "metadata": {},
   "outputs": [],
   "source": [
    "# Elo 1469\n",
    "\n",
    "my_list = [1, 2, 3, 3, 2, 3]\n",
    "index = my_list.index(3)\n",
    "\n",
    "print(index)\n",
    "\n",
    " \n"
   ]
  },
  {
   "cell_type": "code",
   "execution_count": null,
   "metadata": {},
   "outputs": [],
   "source": [
    "# Elo 1399\n",
    "\n",
    "my_list = [1, 2, 3, 0, 2, 3]\n",
    "count = my_list.count(3)\n",
    "\n",
    "print(count)\n",
    "\n",
    " \n"
   ]
  },
  {
   "cell_type": "code",
   "execution_count": null,
   "metadata": {},
   "outputs": [],
   "source": [
    "# Elo 1311\n",
    "\n",
    "my_list = ['car', 'bike', 'boat']\n",
    "my_list.clear()\n",
    "\n",
    "print(len(my_list))\n",
    "\n",
    " \n"
   ]
  },
  {
   "cell_type": "code",
   "execution_count": null,
   "metadata": {},
   "outputs": [],
   "source": [
    "# Elo 1501\n",
    "\n",
    "my_list = [4, 7, 3, 9, 1]\n",
    "my_list.sort()\n",
    "\n",
    "print(my_list)\n",
    "\n",
    " \n"
   ]
  },
  {
   "cell_type": "code",
   "execution_count": null,
   "metadata": {},
   "outputs": [],
   "source": [
    "# Elo 1333\n",
    "\n",
    "my_list = [10, 9, 8, 7]\n",
    "my_list.reverse()\n",
    "\n",
    "print(my_list)\n",
    "\n",
    " \n"
   ]
  },
  {
   "cell_type": "code",
   "execution_count": null,
   "metadata": {},
   "outputs": [],
   "source": [
    "# Elo 1498\n",
    "\n",
    "my_list = [False, False, True]\n",
    "x = any(my_list)\n",
    "\n",
    "print(x)\n",
    "\n",
    " \n"
   ]
  },
  {
   "cell_type": "code",
   "execution_count": null,
   "metadata": {},
   "outputs": [],
   "source": [
    "# Elo 1532\n",
    "\n",
    "bool_val = all([\n",
    "    1 == 1,\n",
    "    7 // 2 == 2 + 1,\n",
    "    2 == 6 % 4,\n",
    "])\n",
    "\n",
    "print(bool_val)\n",
    "\n",
    " \n"
   ]
  },
  {
   "cell_type": "code",
   "execution_count": null,
   "metadata": {},
   "outputs": [],
   "source": [
    "# Elo 1300\n",
    "\n",
    "len_of_list = len(list(range(10)))\n",
    "print(len_of_list)\n",
    "\n",
    " \n"
   ]
  },
  {
   "cell_type": "code",
   "execution_count": null,
   "metadata": {},
   "outputs": [],
   "source": [
    "# Elo 1440\n",
    "\n",
    "l = list(range(5, 15, 5))\n",
    "print(l)\n",
    "\n",
    " \n"
   ]
  },
  {
   "cell_type": "code",
   "execution_count": null,
   "metadata": {},
   "outputs": [],
   "source": [
    "# Elo 1456\n",
    "\n",
    "l = list(range(10, 1, -1))\n",
    "print(l)\n",
    "\n",
    " \n"
   ]
  },
  {
   "cell_type": "code",
   "execution_count": null,
   "metadata": {},
   "outputs": [],
   "source": [
    "# Elo 1302\n",
    "\n",
    "a = 'world!'\n",
    "b = 'hello '\n",
    "\n",
    "b, a = a, b\n",
    "\n",
    "print(a + b)\n",
    "\n",
    " \n"
   ]
  },
  {
   "cell_type": "code",
   "execution_count": null,
   "metadata": {},
   "outputs": [],
   "source": [
    "# Elo 1507\n",
    "\n",
    "my_list = [1, 1, 1, 1]\n",
    "my_list[1::2] = [2, 3]\n",
    "\n",
    "print(my_list)\n",
    "\n",
    " \n"
   ]
  },
  {
   "cell_type": "code",
   "execution_count": null,
   "metadata": {},
   "outputs": [],
   "source": [
    "# Elo 1467\n",
    "\n",
    "my_list = ['1, 2, 3', '4, 5']\n",
    "print(len(my_list))\n",
    "\n",
    " \n"
   ]
  },
  {
   "cell_type": "code",
   "execution_count": null,
   "metadata": {},
   "outputs": [],
   "source": [
    "# Elo 1419\n",
    "\n",
    "word = 'radar'\n",
    "p = word == word[::-1]\n",
    "\n",
    "print(p)\n",
    "\n",
    " \n"
   ]
  },
  {
   "cell_type": "code",
   "execution_count": null,
   "metadata": {},
   "outputs": [],
   "source": [
    "# Elo 1549\n",
    "\n",
    "value_0 = int(True)\n",
    "value_1 = int(False)\n",
    "string = str(value_0) + str(value_1)\n",
    "\n",
    "print(string)\n",
    "\n",
    " \n"
   ]
  },
  {
   "cell_type": "code",
   "execution_count": null,
   "metadata": {},
   "outputs": [],
   "source": [
    "# Elo 1309\n",
    "\n",
    "print(1000 * False)\n",
    "\n",
    " \n"
   ]
  },
  {
   "cell_type": "code",
   "execution_count": null,
   "metadata": {},
   "outputs": [],
   "source": [
    "# Elo 1324\n",
    "\n",
    "print((3 == 4) == 0)\n",
    "\n",
    " \n"
   ]
  },
  {
   "cell_type": "code",
   "execution_count": null,
   "metadata": {},
   "outputs": [],
   "source": [
    "# Elo 1388\n",
    "\n",
    "print(bool([]))\n",
    "\n",
    " \n"
   ]
  },
  {
   "cell_type": "code",
   "execution_count": null,
   "metadata": {},
   "outputs": [],
   "source": [
    "# Elo 1422\n",
    "\n",
    "n = 0\n",
    "for i in range(0, 6, 3):\n",
    "    n += i\n",
    "    \n",
    "print(n)\n",
    "\n",
    " \n"
   ]
  },
  {
   "cell_type": "code",
   "execution_count": null,
   "metadata": {},
   "outputs": [],
   "source": [
    "# Elo 1453\n",
    "\n",
    "str_ = ''\n",
    "\n",
    "for c in reversed('nohtyp'):\n",
    "    str_ += c\n",
    "    \n",
    "print(str_)\n",
    "\n",
    " \n"
   ]
  },
  {
   "cell_type": "code",
   "execution_count": null,
   "metadata": {},
   "outputs": [],
   "source": [
    "# Elo 1347\n",
    "\n",
    "s = sum([\n",
    "    True,\n",
    "    False,\n",
    "    True,\n",
    "    True,\n",
    "])\n",
    "\n",
    "print(s)\n",
    "\n",
    " \n"
   ]
  },
  {
   "cell_type": "code",
   "execution_count": null,
   "metadata": {},
   "outputs": [],
   "source": [
    "# Elo 1391\n",
    "\n",
    "my_list = []\n",
    "id_1 = id(my_list)\n",
    "\n",
    "my_list = my_list + [1]\n",
    "id_2 = id(my_list)\n",
    "\n",
    "print(id_1 == id_2)\n",
    "\n",
    " \n"
   ]
  },
  {
   "cell_type": "code",
   "execution_count": null,
   "metadata": {},
   "outputs": [],
   "source": [
    "# Elo 1399\n",
    "\n",
    "my_list = []\n",
    "id_1 = id(my_list)\n",
    "\n",
    "my_list.append(1)\n",
    "id_2 = id(my_list)\n",
    "\n",
    "print(id_1 == id_2)\n",
    "\n",
    " \n"
   ]
  },
  {
   "cell_type": "code",
   "execution_count": null,
   "metadata": {},
   "outputs": [],
   "source": [
    "# Elo 1486\n",
    "\n",
    "b = all([\n",
    "    bool('0'),\n",
    "    bool('?'),\n",
    "    bool('-'),\n",
    "    bool('e'),\n",
    "])\n",
    "\n",
    "print(b)\n",
    "\n",
    " \n"
   ]
  },
  {
   "cell_type": "code",
   "execution_count": null,
   "metadata": {},
   "outputs": [],
   "source": [
    "# Elo 1575\n",
    "\n",
    "a = complex(2, 4)\n",
    "b = complex(1, -3)\n",
    "\n",
    "print(a + b)\n",
    "\n",
    " \n"
   ]
  },
  {
   "cell_type": "code",
   "execution_count": null,
   "metadata": {},
   "outputs": [],
   "source": [
    "# Elo 1462\n",
    "\n",
    "x = 'a', 'b', 'c'\n",
    "y = 3,\n",
    "\n",
    "print(type(x) == type(y))\n",
    "\n",
    " \n"
   ]
  },
  {
   "cell_type": "code",
   "execution_count": null,
   "metadata": {},
   "outputs": [],
   "source": [
    "# Elo 1478\n",
    "\n",
    "x, y, z = 'cat'\n",
    "\n",
    "print(y)\n",
    "\n",
    " \n"
   ]
  },
  {
   "cell_type": "code",
   "execution_count": null,
   "metadata": {},
   "outputs": [],
   "source": [
    "# Elo 1543\n",
    "\n",
    "my_bools = []\n",
    "\n",
    "for n in range(-1, -10, -1):\n",
    "    my_bools.append(bool(n))\n",
    "    \n",
    "result = all(my_bools)\n",
    "\n",
    "print(result)\n",
    "\n",
    " \n"
   ]
  },
  {
   "cell_type": "code",
   "execution_count": null,
   "metadata": {},
   "outputs": [],
   "source": [
    "# Elo 1593\n",
    "\n",
    "b = any([\n",
    "    bool(None),\n",
    "    bool(0),\n",
    "    bool(dict()),\n",
    "])\n",
    "\n",
    "print(b)\n",
    "\n",
    " \n"
   ]
  },
  {
   "cell_type": "code",
   "execution_count": null,
   "metadata": {},
   "outputs": [],
   "source": [
    "# Elo 1482\n",
    "\n",
    "my_list = [1, 1, 0]\n",
    "s = 3\n",
    "\n",
    "if my_list:\n",
    "    s = sum(my_list)\n",
    "    \n",
    "print(s)\n",
    "\n",
    " \n"
   ]
  },
  {
   "cell_type": "code",
   "execution_count": null,
   "metadata": {},
   "outputs": [],
   "source": [
    "# Elo 1571\n",
    "\n",
    "a = complex(2, 5)\n",
    "b = complex(a.imag, a.real)\n",
    "\n",
    "print(b)\n",
    "\n",
    " \n"
   ]
  },
  {
   "cell_type": "code",
   "execution_count": null,
   "metadata": {},
   "outputs": [],
   "source": [
    "# Elo 1479\n",
    "\n",
    "p1 = (1, -1)\n",
    "p2 = (2, 5)\n",
    "p3 = (p1[0] + p2[0], p1[1] + p2[1])\n",
    "\n",
    "print(p3)\n",
    "\n",
    " \n"
   ]
  },
  {
   "cell_type": "code",
   "execution_count": null,
   "metadata": {},
   "outputs": [],
   "source": [
    "# Elo 1561\n",
    "\n",
    "index = 5\n",
    "string = 'g'\n",
    "\n",
    "while index > 3:\n",
    "    index -= 1\n",
    "    string += 'o'\n",
    "else:\n",
    "    string += 'd'\n",
    "\n",
    "print(string)\n",
    "\n",
    " \n"
   ]
  },
  {
   "cell_type": "code",
   "execution_count": null,
   "metadata": {},
   "outputs": [],
   "source": [
    "# Elo 1578\n",
    "\n",
    "index = 5\n",
    "string = 'g'\n",
    "\n",
    "while index > 3:\n",
    "    index -= 1\n",
    "    string += 'o'\n",
    "    break\n",
    "else:\n",
    "    string += 'd'\n",
    "\n",
    "print(string)\n",
    "\n",
    " \n"
   ]
  },
  {
   "cell_type": "code",
   "execution_count": null,
   "metadata": {},
   "outputs": [],
   "source": [
    "# Elo 1571\n",
    "\n",
    "index = 5\n",
    "string = 'g'\n",
    "\n",
    "while index > 3:\n",
    "    index -= 1\n",
    "    if index == 3:\n",
    "        continue\n",
    "    string += 'o'\n",
    "\n",
    "else:\n",
    "    string += 'd'\n",
    "\n",
    "print(string)\n",
    "\n",
    " \n"
   ]
  },
  {
   "cell_type": "code",
   "execution_count": null,
   "metadata": {},
   "outputs": [],
   "source": [
    "# Elo 1419\n",
    "\n",
    "def magic(x, y):\n",
    "    return x ** y + 1\n",
    "    \n",
    "print(magic(2, 3))\n",
    "\n",
    " \n"
   ]
  },
  {
   "cell_type": "code",
   "execution_count": null,
   "metadata": {},
   "outputs": [],
   "source": [
    "# Elo 1531\n",
    "\n",
    "dict_ = {\n",
    "    1: 'one',\n",
    "    2: 'two',\n",
    "    3: 'three',\n",
    "}\n",
    "\n",
    "def to_str(number):\n",
    "    if number in dict_:\n",
    "        return dict_[number]\n",
    "    else:\n",
    "        return '?'\n",
    "  \n",
    "s1 = to_str(2)\n",
    "s2 = to_str(7)\n",
    "\n",
    "print(s1 + s2)\n",
    "\n",
    " \n"
   ]
  },
  {
   "cell_type": "code",
   "execution_count": null,
   "metadata": {},
   "outputs": [],
   "source": [
    "# Elo 1501\n",
    "\n",
    "sales = {\n",
    "    100: {'item': 'apple', 'price': .95},\n",
    "    101: {'item': 'banana', 'price': .55},\n",
    "    102: {'item': 'orange', 'price': .75},\n",
    "}\n",
    "\n",
    "value = sales[102].get('price')\n",
    "\n",
    "print(value)\n",
    "\n",
    " \n"
   ]
  },
  {
   "cell_type": "code",
   "execution_count": null,
   "metadata": {},
   "outputs": [],
   "source": [
    "# Elo 1533\n",
    "\n",
    "roman = {\n",
    "    1: 'I', 2: 'II', 3: 'III', 4: 'IV', 5: 'V',\n",
    "    6: 'VI', 7: 'VII', 8: 'VIII', 9: 'IX', 10: 'X'\n",
    "}\n",
    "\n",
    "arab = {}\n",
    "\n",
    "for key, value in roman.items():\n",
    "    arab[value] = key\n",
    "    \n",
    "print(arab['VII'])\n",
    "\n",
    " \n"
   ]
  },
  {
   "cell_type": "code",
   "execution_count": null,
   "metadata": {},
   "outputs": [],
   "source": [
    "# Elo 1531\n",
    "\n",
    "def func(a, b, c = 5):\n",
    "    return a + b + c\n",
    "    \n",
    "r1 = func(1, 0)\n",
    "r2 = func(1, 1, 2)\n",
    "\n",
    "print(r1 < r2)\n",
    "\n",
    " \n"
   ]
  },
  {
   "cell_type": "code",
   "execution_count": null,
   "metadata": {},
   "outputs": [],
   "source": [
    "# Elo 1600\n",
    "\n",
    "chars = 'dog!'\n",
    "\n",
    "char_1 = chars[-2]\n",
    "char_2 = chars[chars.find('o')]\n",
    "char_3 = chars[-1]\n",
    "\n",
    "print(char_1 + char_2 + char_3)\n",
    "\n",
    " \n"
   ]
  },
  {
   "cell_type": "code",
   "execution_count": null,
   "metadata": {},
   "outputs": [],
   "source": [
    "# Elo 1611\n",
    "\n",
    "chars = 'bretsamaty'\n",
    "word = chars[1:7][::-1]\n",
    "\n",
    "print(word)\n",
    "\n",
    " \n"
   ]
  },
  {
   "cell_type": "code",
   "execution_count": null,
   "metadata": {},
   "outputs": [],
   "source": [
    "# Elo 1609\n",
    "\n",
    "odds = [1, 3, 5, 7]\n",
    "s = sum(odds) + max(odds) + min(odds)\n",
    "\n",
    "print(s)\n",
    "\n",
    " \n"
   ]
  },
  {
   "cell_type": "code",
   "execution_count": null,
   "metadata": {},
   "outputs": [],
   "source": [
    "# Elo 1602\n",
    "\n",
    "numbers = '1-2-3-4-5-6-7-8-9'\n",
    "\n",
    "my_list = numbers.split('-')\n",
    "my_list[::2] = (len(numbers) // 4 + 1) * 'X'\n",
    "\n",
    "out = ''.join(my_list)\n",
    "out = out.replace('X', '')\n",
    "\n",
    "print(out)\n",
    "\n",
    " \n"
   ]
  },
  {
   "cell_type": "code",
   "execution_count": null,
   "metadata": {},
   "outputs": [],
   "source": [
    "# Elo 1887\n",
    "\n",
    "print(format(0.1, '.5f'))\n",
    "\n",
    " \n"
   ]
  },
  {
   "cell_type": "code",
   "execution_count": null,
   "metadata": {},
   "outputs": [],
   "source": [
    "# Elo 1765\n",
    "\n",
    "a = 0.1 + 0.1 + 0.1\n",
    "b = 0.3\n",
    "\n",
    "print(a == b)\n",
    "\n",
    " \n"
   ]
  },
  {
   "cell_type": "code",
   "execution_count": null,
   "metadata": {},
   "outputs": [],
   "source": [
    "# Elo 1678\n",
    "\n",
    "odd = [1, 3, 5]\n",
    "even = [2, 4, 6]\n",
    "\n",
    "nums = 6 * [' ']\n",
    "nums[::2], nums[1::2] = odd, even\n",
    "\n",
    "print(nums)\n",
    "\n",
    " \n"
   ]
  },
  {
   "cell_type": "code",
   "execution_count": null,
   "metadata": {},
   "outputs": [],
   "source": [
    "# Elo 1698\n",
    "\n",
    "unknown = #input ??\n",
    "str_ = unknown[0]\n",
    "\n",
    "if str_ in 'a' and len(unknown) == 1:\n",
    "    print('X')\n",
    "\n",
    " \n"
   ]
  },
  {
   "cell_type": "code",
   "execution_count": null,
   "metadata": {},
   "outputs": [],
   "source": [
    "# Elo 1701\n",
    "\n",
    "b = round(15, -1) == round(25, -1)\n",
    "print(b)\n",
    "\n",
    " \n"
   ]
  },
  {
   "cell_type": "code",
   "execution_count": null,
   "metadata": {},
   "outputs": [],
   "source": [
    "# Elo 1761\n",
    "\n",
    "n = int('1101', 2)\n",
    "print(n)\n",
    "\n",
    " \n"
   ]
  },
  {
   "cell_type": "code",
   "execution_count": null,
   "metadata": {},
   "outputs": [],
   "source": [
    "# Elo 1619\n",
    "\n",
    "type_1 = type(round(1.9, 0))\n",
    "type_2 = type(round(1.9))\n",
    "\n",
    "print(type_1 == type_2)\n",
    "\n",
    " \n"
   ]
  },
  {
   "cell_type": "code",
   "execution_count": null,
   "metadata": {},
   "outputs": [],
   "source": [
    "# Elo 1781\n",
    "\n",
    "a = 1 > 0\n",
    "\n",
    "if a or (1 / 0 == 0):\n",
    "    print('ok')\n",
    "else:\n",
    "    print('nok')\n",
    "\n",
    " \n"
   ]
  },
  {
   "cell_type": "code",
   "execution_count": null,
   "metadata": {},
   "outputs": [],
   "source": [
    "# Elo 1619\n",
    "\n",
    "n = 16\n",
    "x = 0\n",
    "\n",
    "while x < 3:\n",
    "    n /= 2\n",
    "    x += 1\n",
    "    \n",
    "print(n)\n",
    "\n",
    " \n"
   ]
  },
  {
   "cell_type": "code",
   "execution_count": null,
   "metadata": {},
   "outputs": [],
   "source": [
    "# Elo 1601\n",
    "\n",
    "inc = lambda x : x + 1\n",
    "\n",
    "print(inc(2))\n",
    "\n",
    " \n"
   ]
  },
  {
   "cell_type": "code",
   "execution_count": null,
   "metadata": {},
   "outputs": [],
   "source": [
    "# Elo 1721\n",
    "\n",
    "l1 = ['a', 'b', 'c']\n",
    "l2 = [1, 2, 3]\n",
    "l3 = []\n",
    "\n",
    "for tuple in zip(l1, l2):\n",
    "    l3.append(tuple)\n",
    "    \n",
    "print(len(l3))\n",
    "\n",
    " \n"
   ]
  },
  {
   "cell_type": "code",
   "execution_count": null,
   "metadata": {},
   "outputs": [],
   "source": [
    "# Elo 1601\n",
    "\n",
    "list_ = list(range(5))\n",
    "func = lambda x: x % 2 == 0\n",
    "ns = []\n",
    "\n",
    "for n in filter(func, list_):\n",
    "    ns.append(n)\n",
    "    \n",
    "print(ns)\n",
    "\n",
    " \n",
    "def func(x):\n",
    "    return x % 2 == 0\n",
    " \n"
   ]
  },
  {
   "cell_type": "code",
   "execution_count": null,
   "metadata": {},
   "outputs": [],
   "source": [
    "# Elo 1627\n",
    "\n",
    "list_ = list(range(4))\n",
    "incs = [x + 1 for x in list_]\n",
    "\n",
    "print(incs)\n",
    "\n",
    " \n"
   ]
  },
  {
   "cell_type": "code",
   "execution_count": null,
   "metadata": {},
   "outputs": [],
   "source": [
    "# Elo 1821\n",
    "\n",
    "encrypted = 'Dbftbs!fodszqujpo!jt!opu!tfdvsf\"'\n",
    "decrypted = ''\n",
    "\n",
    "for c in encrypted:\n",
    "    decrypted += chr(ord(c) - 1)\n",
    "    \n",
    "print(decrypted)\n",
    "\n",
    " \n"
   ]
  },
  {
   "cell_type": "code",
   "execution_count": null,
   "metadata": {},
   "outputs": [],
   "source": [
    "# Elo 1611\n",
    "\n",
    "dict_ = {\n",
    "    0: ' ', 3: 'eat', 2: 'apple',\n",
    "    4: 's', 1: 'Bob', 5: '.',\n",
    "}\n",
    "\n",
    "words = [1, 0, 3, 4, 0, 2, 4, 5]\n",
    "sentence = ''''''\n",
    "\n",
    "for w in words:\n",
    "    sentence += dict_[w]\n",
    "    \n",
    "print(sentence)\n",
    "\n",
    " \n"
   ]
  },
  {
   "cell_type": "code",
   "execution_count": null,
   "metadata": {},
   "outputs": [],
   "source": [
    "# Elo 1641\n",
    "\n",
    "def add(a, b):\n",
    "    return a + b\n",
    "    \n",
    "def mult(a, b):\n",
    "    return a * b\n",
    "    \n",
    "func = {0: add, 1: mult, 2: lambda x: x + 1}\n",
    "\n",
    "a = func[0](3, -1)\n",
    "b = func[1](4.0, 0.5)\n",
    "\n",
    "print(a + b)\n",
    "\n",
    " \n"
   ]
  },
  {
   "cell_type": "code",
   "execution_count": null,
   "metadata": {},
   "outputs": [],
   "source": [
    "# Elo 1639\n",
    "\n",
    "customers = {\n",
    "    100: {'name': 'Alice', 'zip': 1234},\n",
    "    101: {'name': 'Bob', 'zip': 1212},\n",
    "    102: {'name': 'Clare', 'zip': 1001},\n",
    "}\n",
    "\n",
    "customers[101].clear()\n",
    "\n",
    "print(len(customers))\n",
    "\n",
    " \n"
   ]
  },
  {
   "cell_type": "code",
   "execution_count": null,
   "metadata": {},
   "outputs": [],
   "source": [
    "# Elo 1667\n",
    "\n",
    "zip_codes = {\n",
    "    3001: 'Dolomite',\n",
    "    3002: 'Goodwater',\n",
    "    3003: 'Montevallo',\n",
    "    3004: 'Shelby',\n",
    "    3000: 'Vance',\n",
    "}\n",
    "\n",
    "keys = list(zip_codes.keys())\n",
    "keys.sort()\n",
    "\n",
    "print(keys[0])\n",
    "\n",
    " \n"
   ]
  },
  {
   "cell_type": "code",
   "execution_count": null,
   "metadata": {},
   "outputs": [],
   "source": [
    "# Elo 1701\n",
    "\n",
    "prices = [0.55, 0.45, 0.35, 1.45]\n",
    "items = ['cucumber', 'paprika',\n",
    "         'tomato', 'broccoli']\n",
    "         \n",
    "item_prices = {}\n",
    "\n",
    "for key, value in zip(items, prices):\n",
    "    item_prices[key] = value\n",
    "    \n",
    "print(item_prices['tomato'])\n",
    "\n",
    " \n"
   ]
  },
  {
   "cell_type": "code",
   "execution_count": null,
   "metadata": {},
   "outputs": [],
   "source": [
    "# Elo 1731\n",
    "\n",
    "item_prices = [\n",
    "    ('car', 10000),\n",
    "    ('boat', 7000),\n",
    "    ('bike', 400),\n",
    "    ('skateboard', 150),\n",
    "    ('aircraft', 500000),\n",
    "]\n",
    "\n",
    "my_list = [x for x in item_prices if x[1] > 9000]\n",
    "\n",
    "print(len(my_list))\n",
    "\n",
    " \n"
   ]
  },
  {
   "cell_type": "code",
   "execution_count": null,
   "metadata": {},
   "outputs": [],
   "source": [
    "# Elo 1695\n",
    "\n",
    "prices = [\n",
    "    ('banana', 1.5),\n",
    "    ('apple', 2.0),\n",
    "    ('bread', 2.0),\n",
    "    ('milk', 1.0),\n",
    "    ('fish', 3.5),\n",
    "]\n",
    "\n",
    "a = sum([x[1] for x in prices]) / len(prices)\n",
    "\n",
    "print(a)\n",
    "\n",
    " \n"
   ]
  },
  {
   "cell_type": "code",
   "execution_count": null,
   "metadata": {},
   "outputs": [],
   "source": [
    "# Elo 1741\n",
    "\n",
    "speed = [\n",
    "    ('car', 100),\n",
    "    ('boat', 20),\n",
    "    ('bike', 8),\n",
    "    ('ski', 7),\n",
    "    ('aircraft', 650),\n",
    "]\n",
    "\n",
    "print(max(speed)[1])\n",
    "\n",
    " "
   ]
  },
  {
   "cell_type": "code",
   "execution_count": null,
   "metadata": {},
   "outputs": [],
   "source": [
    "# Elo 1769\n",
    "\n",
    "speed = [\n",
    "    ('car', 100),\n",
    "    ('boat', 20),\n",
    "    ('bike', 8),\n",
    "    ('ski', 7),\n",
    "    ('aircraft', 650),\n",
    "]\n",
    "\n",
    "print(max(speed, key=lambda x: x[1])[1])\n",
    "\n",
    " "
   ]
  },
  {
   "cell_type": "code",
   "execution_count": null,
   "metadata": {},
   "outputs": [],
   "source": [
    "# Elo 1799\n",
    "\n",
    "my_list = ['Hamburger', 'Cheeseburger']\n",
    "\n",
    "del my_list\n",
    "\n",
    "print(my_list)\n",
    "\n",
    " "
   ]
  },
  {
   "cell_type": "code",
   "execution_count": null,
   "metadata": {},
   "outputs": [],
   "source": [
    "# Elo 1733\n",
    "\n",
    "set_ = set()\n",
    "\n",
    "for number in range(100000):\n",
    "    set_.add(number % 4)\n",
    "    \n",
    "print(len(set_))\n",
    "\n",
    " "
   ]
  },
  {
   "cell_type": "code",
   "execution_count": null,
   "metadata": {},
   "outputs": [],
   "source": [
    "# Elo 1739\n",
    "\n",
    "set_1 = {1, 2, 3, 4}\n",
    "set_2 = {3, 4, 5, 6}\n",
    "\n",
    "set_1 = set_1.intersection(set_2)\n",
    "set_2 = set_2.difference(set_1)\n",
    "\n",
    "print(len(set_1) + len(set_2))"
   ]
  },
  {
   "cell_type": "code",
   "execution_count": null,
   "metadata": {},
   "outputs": [],
   "source": [
    "# Elo 1899\n",
    "\n",
    "numbers = [9, 2, 3, 7, 4, 5, 1, 6, 8]\n",
    "\n",
    "def magic(l):\n",
    "    if len(l) <= 1:\n",
    "        return l\n",
    "        \n",
    "    p_idx = len(l) // 2\n",
    "    p = l[p_idx]\n",
    "    \n",
    "    return magic([x for x in l if x < p]) + \\\n",
    "        [p] + magic([x for x in l if x >= p])\n",
    "                  \n",
    "my_list = magic(numbers)\n",
    "\n",
    "print(my_list)"
   ]
  },
  {
   "cell_type": "code",
   "execution_count": null,
   "metadata": {},
   "outputs": [],
   "source": [
    "# Elo 1809\n",
    "\n",
    "cache = {}\n",
    "\n",
    "def fib(n):   \n",
    "    if n < 0:\n",
    "        raise ValueError\n",
    "\n",
    "    if n == 1:\n",
    "        return 0\n",
    "    elif n == 2:\n",
    "        return 1\n",
    "    \n",
    "    if not n in cache:\n",
    "        cache[n] = fib(n-1) + fib(n-2)\n",
    "\n",
    "    return cache[n]\n",
    "     \n",
    "\n",
    "fib(10)\n",
    "\n",
    "print(len(cache))"
   ]
  }
 ],
 "metadata": {
  "kernelspec": {
   "display_name": "Python 3",
   "language": "python",
   "name": "python3"
  },
  "language_info": {
   "codemirror_mode": {
    "name": "ipython",
    "version": 3
   },
   "file_extension": ".py",
   "mimetype": "text/x-python",
   "name": "python",
   "nbconvert_exporter": "python",
   "pygments_lexer": "ipython3",
   "version": "3.6.7"
  }
 },
 "nbformat": 4,
 "nbformat_minor": 2
}
